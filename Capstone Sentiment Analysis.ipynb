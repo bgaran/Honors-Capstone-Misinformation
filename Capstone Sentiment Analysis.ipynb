{
 "cells": [
  {
   "cell_type": "code",
   "execution_count": 68,
   "metadata": {
    "collapsed": false
   },
   "outputs": [
    {
     "name": "stdout",
     "output_type": "stream",
     "text": [
      "\n",
      "Usage:   \n",
      "  pip install [options] <requirement specifier> [package-index-options] ...\n",
      "  pip install [options] -r <requirements file> [package-index-options] ...\n",
      "  pip install [options] [-e] <vcs project url> ...\n",
      "  pip install [options] [-e] <local project path> ...\n",
      "  pip install [options] <archive url/path> ...\n",
      "\n",
      "no such option: -y\n",
      "Ign http://us-east-1.ec2.archive.ubuntu.com trusty InRelease\n",
      "Hit http://us-east-1.ec2.archive.ubuntu.com trusty-updates InRelease\n",
      "Ign http://cran.rstudio.com trusty/ InRelease\n",
      "Hit http://us-east-1.ec2.archive.ubuntu.com trusty Release.gpg\n",
      "Hit http://us-east-1.ec2.archive.ubuntu.com trusty Release\n",
      "Hit http://cran.rstudio.com trusty/ Release.gpg\n",
      "Hit http://cran.rstudio.com trusty/ Release\n",
      "Hit http://us-east-1.ec2.archive.ubuntu.com trusty-updates/main Sources\n",
      "Hit http://us-east-1.ec2.archive.ubuntu.com trusty-updates/universe Sources\n",
      "Hit http://us-east-1.ec2.archive.ubuntu.com trusty-updates/main amd64 Packages\n",
      "Hit http://us-east-1.ec2.archive.ubuntu.com trusty-updates/universe amd64 Packages\n",
      "Hit http://us-east-1.ec2.archive.ubuntu.com trusty-updates/main Translation-en\n",
      "Hit http://us-east-1.ec2.archive.ubuntu.com trusty-updates/universe Translation-en\n",
      "Hit http://cran.rstudio.com trusty/ Packages\n",
      "Hit http://us-east-1.ec2.archive.ubuntu.com trusty/main Sources\n",
      "Hit http://us-east-1.ec2.archive.ubuntu.com trusty/universe Sources\n",
      "Hit http://us-east-1.ec2.archive.ubuntu.com trusty/main amd64 Packages\n",
      "Hit http://us-east-1.ec2.archive.ubuntu.com trusty/universe amd64 Packages\n",
      "Hit http://us-east-1.ec2.archive.ubuntu.com trusty/main Translation-en\n",
      "Hit http://us-east-1.ec2.archive.ubuntu.com trusty/universe Translation-en\n",
      "Hit http://ppa.launchpad.net trusty InRelease\n",
      "Hit http://security.ubuntu.com trusty-security InRelease\n",
      "Ign http://cran.rstudio.com trusty/ Translation-en\n",
      "Hit http://security.ubuntu.com trusty-security/main Sources\n",
      "Hit http://ppa.launchpad.net trusty/main amd64 Packages\n",
      "Hit http://security.ubuntu.com trusty-security/universe Sources\n",
      "Hit http://security.ubuntu.com trusty-security/main amd64 Packages\n",
      "Hit http://ppa.launchpad.net trusty/main Translation-en\n",
      "Hit http://security.ubuntu.com trusty-security/universe amd64 Packages\n",
      "Hit http://security.ubuntu.com trusty-security/main Translation-en\n",
      "Hit http://security.ubuntu.com trusty-security/universe Translation-en\n",
      "Reading package lists... Done\n",
      "Reading package lists... Done\n",
      "Building dependency tree       \n",
      "Reading state information... Done\n",
      "graphviz is already the newest version.\n",
      "The following package was automatically installed and is no longer required:\n",
      "  rsync\n",
      "Use 'apt-get autoremove' to remove it.\n",
      "0 upgraded, 0 newly installed, 0 to remove and 245 not upgraded.\n",
      "\u001b[33mDEPRECATION: Python 3.4 support has been deprecated. pip 19.1 will be the last one supporting it. Please upgrade your Python as Python 3.4 won't be maintained after March 2019 (cf PEP 429).\u001b[0m\n",
      "Requirement already satisfied: vaderSentiment in /usr/local/lib/python3.4/dist-packages (3.3.1)\n",
      "\u001b[33mDEPRECATION: Python 3.4 support has been deprecated. pip 19.1 will be the last one supporting it. Please upgrade your Python as Python 3.4 won't be maintained after March 2019 (cf PEP 429).\u001b[0m\n",
      "Requirement already satisfied: sklearn in /usr/local/lib/python3.4/dist-packages (0.0)\n",
      "Requirement already satisfied: scikit-learn in /usr/local/lib/python3.4/dist-packages (from sklearn) (0.19.1)\n"
     ]
    }
   ],
   "source": [
    "#Install necessary libraries\n",
    "\n",
    "#Van Rossum, G., & Drake, F. L. (2009). Python 3 Reference Manual. Scotts Valley, CA: CreateSpace. \n",
    "\n",
    "!sudo pip install -y --upgrade pip\n",
    "!sudo apt-get -y update\n",
    "\n",
    "#An open graph visualization system and its applications to software engineering, - Gansner, North - 2000\n",
    "!sudo apt-get install -y graphviz\n",
    "\n",
    "#Oliphant, T. E. (2006). A guide to NumPy (Vol. 1). Trelgol Publishing USA.\n",
    "import numpy as np \n",
    "\n",
    "#Data structures for statistical computing in python, McKinney, Proceedings of the\n",
    "#9th Python in Science Conference, Volume 445, 2010.\n",
    "import pandas as pd \n",
    "\n",
    "#Hutto, C.J. & Gilbert, E.E. (2014). VADER: A Parsimonious Rule-based Model for\n",
    "#Sentiment Analysis of Social Media Text. Eighth International Conference on\n",
    "#Weblogs and Social Media (ICWSM-14). Ann Arbor, MI, June 2014.\n",
    "!sudo  pip install vaderSentiment\n",
    "from vaderSentiment.vaderSentiment import SentimentIntensityAnalyzer\n",
    "\n",
    "#Scikit-learn: Machine Learning in Python, Pedregosa et al., JMLR 12, pp. 2825-2830, 2011.\n",
    "!sudo pip install sklearn\n",
    "from sklearn.datasets import load_iris\n",
    "from sklearn.tree import DecisionTreeClassifier\n",
    "from sklearn.tree import export_graphviz\n",
    "from sklearn.model_selection import train_test_split \n",
    "\n",
    "#Fernando Pérez, Brian E. Granger, IPython: A System for Interactive Scientific Computing, \n",
    "#Computing in Science and Engineering,vol. 9, no. 3, pp. 21-29, May/June 2007, doi:10.1109/MCSE.2007.53. \n",
    "#URL: https://ipython.org\n",
    "from IPython.display import Image"
   ]
  },
  {
   "cell_type": "code",
   "execution_count": 69,
   "metadata": {
    "collapsed": false
   },
   "outputs": [],
   "source": [
    "#read the csv file with the labeled stements into a dataframe for natural language processing\n",
    "media=pd.read_csv('train.csv', parse_dates=True)"
   ]
  },
  {
   "cell_type": "code",
   "execution_count": 70,
   "metadata": {
    "collapsed": false
   },
   "outputs": [],
   "source": [
    "#create an analyser object\n",
    "analyser = SentimentIntensityAnalyzer()"
   ]
  },
  {
   "cell_type": "code",
   "execution_count": 71,
   "metadata": {
    "collapsed": false
   },
   "outputs": [],
   "source": [
    "# separates the dataset into two dataframes- one for the staements \n",
    "# labeled true, and one for the statements labeled false\n",
    "TrueStatements=media[media['Label']==True]\n",
    "FalseStatements=media[media['Label']==False]"
   ]
  },
  {
   "cell_type": "code",
   "execution_count": 72,
   "metadata": {
    "collapsed": true
   },
   "outputs": [],
   "source": [
    "#function that uses the suggested sentiment thresholds from the VADER documentation  \n",
    "#as an algorithm to predit if a given statement is true or false\n",
    "def sentiment_truth_predictions(sentence):\n",
    "    score = analyser.polarity_scores(sentence)\n",
    "    if score['compound']>=.05 or score['compound']<=-.05:\n",
    "        return False\n",
    "    else:\n",
    "        return True"
   ]
  },
  {
   "cell_type": "code",
   "execution_count": 73,
   "metadata": {
    "collapsed": false
   },
   "outputs": [
    {
     "name": "stderr",
     "output_type": "stream",
     "text": [
      "/usr/local/lib/python3.4/dist-packages/ipykernel_launcher.py:2: SettingWithCopyWarning: \n",
      "A value is trying to be set on a copy of a slice from a DataFrame.\n",
      "Try using .loc[row_indexer,col_indexer] = value instead\n",
      "\n",
      "See the caveats in the documentation: http://pandas.pydata.org/pandas-docs/stable/indexing.html#indexing-view-versus-copy\n",
      "  \n",
      "/usr/local/lib/python3.4/dist-packages/ipykernel_launcher.py:3: SettingWithCopyWarning: \n",
      "A value is trying to be set on a copy of a slice from a DataFrame.\n",
      "Try using .loc[row_indexer,col_indexer] = value instead\n",
      "\n",
      "See the caveats in the documentation: http://pandas.pydata.org/pandas-docs/stable/indexing.html#indexing-view-versus-copy\n",
      "  This is separate from the ipykernel package so we can avoid doing imports until\n"
     ]
    }
   ],
   "source": [
    "#applies the prediction function to each row in each of the dataframes and saves the results in a new column\n",
    "TrueStatements['sentimentTruthPrediction'] = TrueStatements['Statement'].apply(lambda x: sentiment_truth_predictions(x))\n",
    "FalseStatements['sentimentTruthPrediction'] = FalseStatements['Statement'].apply(lambda x: sentiment_truth_predictions(x))"
   ]
  },
  {
   "cell_type": "code",
   "execution_count": 74,
   "metadata": {
    "collapsed": false
   },
   "outputs": [
    {
     "name": "stdout",
     "output_type": "stream",
     "text": [
      "Value Counts:\n",
      "False    2890\n",
      "True     1598\n",
      "Name: sentimentTruthPrediction, dtype: int64\n",
      "Percentage:\n",
      "False    64.393939\n",
      "True     35.606061\n",
      "Name: sentimentTruthPrediction, dtype: float64\n"
     ]
    }
   ],
   "source": [
    "#prints the results of the algorithm using the suggest threshholds for the False Satements\n",
    "print('Value Counts:')\n",
    "print(FalseStatements['sentimentTruthPrediction'].value_counts())\n",
    "print('Percentage:')\n",
    "print(FalseStatements['sentimentTruthPrediction'].value_counts(normalize=True).mul(100))"
   ]
  },
  {
   "cell_type": "code",
   "execution_count": 75,
   "metadata": {
    "collapsed": false
   },
   "outputs": [
    {
     "name": "stdout",
     "output_type": "stream",
     "text": [
      "Value Counts:\n",
      "False    3756\n",
      "True     1996\n",
      "Name: sentimentTruthPrediction, dtype: int64\n",
      "Percentage:\n",
      "False    65.299026\n",
      "True     34.700974\n",
      "Name: sentimentTruthPrediction, dtype: float64\n"
     ]
    }
   ],
   "source": [
    "#prints the results of the algorithm using the suggest threshholds for the True Satements\n",
    "print('Value Counts:')\n",
    "print(TrueStatements['sentimentTruthPrediction'].value_counts())\n",
    "print('Percentage:')\n",
    "print(TrueStatements['sentimentTruthPrediction'].value_counts(normalize=True).mul(100))"
   ]
  },
  {
   "cell_type": "code",
   "execution_count": 76,
   "metadata": {
    "collapsed": true
   },
   "outputs": [],
   "source": [
    "#functions that return the values of each VADER sentiment score \n",
    "\n",
    "def compound_scores(sentence):\n",
    "    score = analyser.polarity_scores(sentence)\n",
    "    return score['compound']\n",
    "\n",
    "def neutral_scores(sentence):\n",
    "    score = analyser.polarity_scores(sentence)\n",
    "    return score['neu']\n",
    "\n",
    "def positive_scores(sentence):\n",
    "    score = analyser.polarity_scores(sentence)\n",
    "    return score['pos']\n",
    "\n",
    "def negative_scores(sentence):\n",
    "    score = analyser.polarity_scores(sentence)\n",
    "    return score['neg']"
   ]
  },
  {
   "cell_type": "code",
   "execution_count": 77,
   "metadata": {
    "collapsed": false
   },
   "outputs": [],
   "source": [
    "#remove the first prediction\n",
    "TrueStatements=TrueStatements[['Statement','Label']]\n",
    "FalseStatements=FalseStatements[['Statement','Label']]"
   ]
  },
  {
   "cell_type": "code",
   "execution_count": 78,
   "metadata": {
    "collapsed": false
   },
   "outputs": [],
   "source": [
    "#adds the VADER sentiment scores to the full dataframe\n",
    "media['compoundScore'] = media['Statement'].apply(lambda x: compound_scores(x))\n",
    "media['neutralScore'] = media['Statement'].apply(lambda x: neutral_scores(x))\n",
    "media['positiveScore'] = media['Statement'].apply(lambda x: positive_scores(x))\n",
    "media['negativeScore'] = media['Statement'].apply(lambda x: negative_scores(x))"
   ]
  },
  {
   "cell_type": "code",
   "execution_count": 79,
   "metadata": {
    "collapsed": true
   },
   "outputs": [],
   "source": [
    "#create decision tree classifier and set depth\n",
    "tree = DecisionTreeClassifier(max_depth = 2)"
   ]
  },
  {
   "cell_type": "code",
   "execution_count": 80,
   "metadata": {
    "collapsed": false
   },
   "outputs": [
    {
     "data": {
      "text/plain": [
       "DecisionTreeClassifier(class_weight=None, criterion='gini', max_depth=2,\n",
       "            max_features=None, max_leaf_nodes=None,\n",
       "            min_impurity_decrease=0.0, min_impurity_split=None,\n",
       "            min_samples_leaf=1, min_samples_split=2,\n",
       "            min_weight_fraction_leaf=0.0, presort=False, random_state=None,\n",
       "            splitter='best')"
      ]
     },
     "execution_count": 80,
     "metadata": {},
     "output_type": "execute_result"
    }
   ],
   "source": [
    "#fit the tree with the predictors (['compoundScore','neutralScore'\n",
    "#,'positiveScore','negativeScore']) and target value (['Label'])\n",
    "tree.fit(media[['compoundScore','neutralScore','positiveScore','negativeScore']],media['Label'])"
   ]
  },
  {
   "cell_type": "code",
   "execution_count": 81,
   "metadata": {
    "collapsed": false
   },
   "outputs": [],
   "source": [
    "#set the appropriate names and source fields and export the tree vizualization\n",
    "export_graphviz(\n",
    "    tree,\n",
    "    out_file = \"media_tree.dot\",\n",
    "    feature_names = media.columns[2:6],\n",
    "    class_names = ['False','True'],\n",
    "    rounded = True,\n",
    "    filled = True\n",
    ")\n",
    "!dot -Tpng media_tree.dot -o media_tree.png"
   ]
  },
  {
   "cell_type": "code",
   "execution_count": 82,
   "metadata": {
    "collapsed": false
   },
   "outputs": [
    {
     "data": {
      "image/png": "[encoded data removed]",
      "text/plain": [
       "<IPython.core.display.Image object>"
      ]
     },
     "execution_count": 82,
     "metadata": {},
     "output_type": "execute_result"
    }
   ],
   "source": [
    "#display tree vizualization\n",
    "Image(filename = 'media_tree.png')"
   ]
  },
  {
   "cell_type": "code",
   "execution_count": 83,
   "metadata": {
    "collapsed": false
   },
   "outputs": [],
   "source": [
    "#read dataset, clean up columns and column names and split into data frames of true and false statements\n",
    "media2=pd.read_csv('FA-KES-Dataset.csv', parse_dates=True,encoding='latin-1')\n",
    "media2=media2[['article_content','labels']]\n",
    "media2=media2.rename(columns={\"article_content\": \"Statement\", \"labels\": \"Label\"})\n",
    "TrueStatements2=media2[media2['Label']==True]\n",
    "FalseStatements2=media2[media2['Label']==False]"
   ]
  },
  {
   "cell_type": "code",
   "execution_count": 84,
   "metadata": {
    "collapsed": false
   },
   "outputs": [],
   "source": [
    "#create a list of keywords and phrases\n",
    "keyWords=['leaked','more details as the story develops','sources tell us', \n",
    "          'said in a press release','according to a report','we''ve reached out to'\n",
    "          ,'says','which means','meaning that','will result in', 'according to a tip','breaking','updated','exclusive','shocking','our sources','sources say']"
   ]
  },
  {
   "cell_type": "code",
   "execution_count": 85,
   "metadata": {
    "collapsed": true
   },
   "outputs": [],
   "source": [
    "#function to test if a keyword/phrase is in a given text and flag accordingly\n",
    "def keyWordFlag(text):\n",
    "    for i in keyWords:\n",
    "        if i in text.lower():\n",
    "            return 'suspect'\n",
    "        else:\n",
    "            return 'no flag'"
   ]
  },
  {
   "cell_type": "code",
   "execution_count": 86,
   "metadata": {
    "collapsed": false
   },
   "outputs": [
    {
     "name": "stderr",
     "output_type": "stream",
     "text": [
      "/usr/local/lib/python3.4/dist-packages/ipykernel_launcher.py:2: SettingWithCopyWarning: \n",
      "A value is trying to be set on a copy of a slice from a DataFrame.\n",
      "Try using .loc[row_indexer,col_indexer] = value instead\n",
      "\n",
      "See the caveats in the documentation: http://pandas.pydata.org/pandas-docs/stable/indexing.html#indexing-view-versus-copy\n",
      "  \n",
      "/usr/local/lib/python3.4/dist-packages/ipykernel_launcher.py:3: SettingWithCopyWarning: \n",
      "A value is trying to be set on a copy of a slice from a DataFrame.\n",
      "Try using .loc[row_indexer,col_indexer] = value instead\n",
      "\n",
      "See the caveats in the documentation: http://pandas.pydata.org/pandas-docs/stable/indexing.html#indexing-view-versus-copy\n",
      "  This is separate from the ipykernel package so we can avoid doing imports until\n"
     ]
    }
   ],
   "source": [
    "#apply the function to each article in the true and false datasets and store in a new column\n",
    "TrueStatements2['SuspectFlag'] = TrueStatements2['Statement'].apply(lambda x: keyWordFlag(x))\n",
    "FalseStatements2['SuspectFlag'] = FalseStatements2['Statement'].apply(lambda x: keyWordFlag(x))"
   ]
  },
  {
   "cell_type": "code",
   "execution_count": 87,
   "metadata": {
    "collapsed": false
   },
   "outputs": [
    {
     "name": "stdout",
     "output_type": "stream",
     "text": [
      "Value Counts:\n",
      "no flag    426\n",
      "Name: SuspectFlag, dtype: int64\n",
      "Percentage:\n",
      "no flag    100.0\n",
      "Name: SuspectFlag, dtype: float64\n"
     ]
    }
   ],
   "source": [
    "#display results of the suspect flag for the true articles \n",
    "print('Value Counts:')\n",
    "print(TrueStatements2['SuspectFlag'].value_counts())\n",
    "print('Percentage:')\n",
    "print(TrueStatements2['SuspectFlag'].value_counts(normalize=True).mul(100))"
   ]
  },
  {
   "cell_type": "code",
   "execution_count": 88,
   "metadata": {
    "collapsed": false,
    "scrolled": true
   },
   "outputs": [
    {
     "name": "stdout",
     "output_type": "stream",
     "text": [
      "Value Counts:\n",
      "no flag    377\n",
      "suspect      1\n",
      "Name: SuspectFlag, dtype: int64\n",
      "Percentage:\n",
      "no flag    99.73545\n",
      "suspect     0.26455\n",
      "Name: SuspectFlag, dtype: float64\n"
     ]
    }
   ],
   "source": [
    "#display results of the suspect flag for the false articles \n",
    "print('Value Counts:')\n",
    "print(FalseStatements2['SuspectFlag'].value_counts())\n",
    "print('Percentage:')\n",
    "print(FalseStatements2['SuspectFlag'].value_counts(normalize=True).mul(100))"
   ]
  },
  {
   "cell_type": "code",
   "execution_count": 89,
   "metadata": {
    "collapsed": false
   },
   "outputs": [],
   "source": [
    "#store real and fake news datasets to corresponding dataframes and clean columns\n",
    "realmedia2=pd.read_csv('BuzzFeed_real_news_content.csv', error_bad_lines=False, encoding='latin-1', engine='python')\n",
    "fakemedia2=pd.read_csv('BuzzFeed_fake_news_content.csv', error_bad_lines=False, encoding='latin-1', engine='python')\n",
    "realmedia2=realmedia2[['text']]\n",
    "fakemedia2=fakemedia2[['text']]\n"
   ]
  },
  {
   "cell_type": "code",
   "execution_count": 90,
   "metadata": {
    "collapsed": false
   },
   "outputs": [],
   "source": [
    "#apply the function to each article in the real and fake datasets and store in a new column\n",
    "realmedia2['SuspectFlag'] = realmedia2['text'].apply(lambda x: keyWordFlag(x))\n",
    "fakemedia2['SuspectFlag'] = fakemedia2['text'].apply(lambda x: keyWordFlag(x))"
   ]
  },
  {
   "cell_type": "code",
   "execution_count": 91,
   "metadata": {
    "collapsed": false
   },
   "outputs": [
    {
     "name": "stdout",
     "output_type": "stream",
     "text": [
      "Value Counts:\n",
      "no flag    91\n",
      "Name: SuspectFlag, dtype: int64\n",
      "Percentage:\n",
      "no flag    100.0\n",
      "Name: SuspectFlag, dtype: float64\n"
     ]
    }
   ],
   "source": [
    "#display results of the suspect flag for the real articles \n",
    "print('Value Counts:')\n",
    "print(realmedia2['SuspectFlag'].value_counts())\n",
    "print('Percentage:')\n",
    "print(realmedia2['SuspectFlag'].value_counts(normalize=True).mul(100))"
   ]
  },
  {
   "cell_type": "code",
   "execution_count": 92,
   "metadata": {
    "collapsed": false
   },
   "outputs": [
    {
     "name": "stdout",
     "output_type": "stream",
     "text": [
      "Value Counts:\n",
      "no flag    88\n",
      "suspect     3\n",
      "Name: SuspectFlag, dtype: int64\n",
      "Percentage:\n",
      "no flag    96.703297\n",
      "suspect     3.296703\n",
      "Name: SuspectFlag, dtype: float64\n"
     ]
    }
   ],
   "source": [
    "#display results of the suspect flag for the fake articles \n",
    "print('Value Counts:')\n",
    "print(fakemedia2['SuspectFlag'].value_counts())\n",
    "print('Percentage:')\n",
    "print(fakemedia2['SuspectFlag'].value_counts(normalize=True).mul(100))"
   ]
  },
  {
   "cell_type": "code",
   "execution_count": 93,
   "metadata": {
    "collapsed": false
   },
   "outputs": [
    {
     "name": "stdout",
     "output_type": "stream",
     "text": [
      "Value Counts For True Statements:\n"
     ]
    },
    {
     "data": {
      "text/html": [
       "<div>\n",
       "<style scoped>\n",
       "    .dataframe tbody tr th:only-of-type {\n",
       "        vertical-align: middle;\n",
       "    }\n",
       "\n",
       "    .dataframe tbody tr th {\n",
       "        vertical-align: top;\n",
       "    }\n",
       "\n",
       "    .dataframe thead th {\n",
       "        text-align: right;\n",
       "    }\n",
       "</style>\n",
       "<table border=\"1\" class=\"dataframe\">\n",
       "  <thead>\n",
       "    <tr style=\"text-align: right;\">\n",
       "      <th></th>\n",
       "      <th>Mixed Media Sources</th>\n",
       "      <th>BuzzFeed</th>\n",
       "    </tr>\n",
       "  </thead>\n",
       "  <tbody>\n",
       "    <tr>\n",
       "      <th>no flag</th>\n",
       "      <td>426</td>\n",
       "      <td>91</td>\n",
       "    </tr>\n",
       "  </tbody>\n",
       "</table>\n",
       "</div>"
      ],
      "text/plain": [
       "         Mixed Media Sources  BuzzFeed\n",
       "no flag                  426        91"
      ]
     },
     "execution_count": 93,
     "metadata": {},
     "output_type": "execute_result"
    }
   ],
   "source": [
    "#combine the results from the real/true datasets to one dataframe for display\n",
    "print('Value Counts For True Statements:')\n",
    "df1=TrueStatements2['SuspectFlag'].value_counts().to_frame()\n",
    "realmedia2['SuspectFlag'].value_counts().to_frame()\n",
    "\n",
    "df1['BuzzFeed']=realmedia2['SuspectFlag'].value_counts().to_frame()['SuspectFlag']\n",
    "df1=df1.rename(columns={\"SuspectFlag\": \"Mixed Media Sources\"})\n",
    "\n",
    "\n",
    "df1"
   ]
  },
  {
   "cell_type": "code",
   "execution_count": 94,
   "metadata": {
    "collapsed": false
   },
   "outputs": [
    {
     "name": "stdout",
     "output_type": "stream",
     "text": [
      "Value Counts For False Statements:\n"
     ]
    },
    {
     "data": {
      "text/html": [
       "<div>\n",
       "<style scoped>\n",
       "    .dataframe tbody tr th:only-of-type {\n",
       "        vertical-align: middle;\n",
       "    }\n",
       "\n",
       "    .dataframe tbody tr th {\n",
       "        vertical-align: top;\n",
       "    }\n",
       "\n",
       "    .dataframe thead th {\n",
       "        text-align: right;\n",
       "    }\n",
       "</style>\n",
       "<table border=\"1\" class=\"dataframe\">\n",
       "  <thead>\n",
       "    <tr style=\"text-align: right;\">\n",
       "      <th></th>\n",
       "      <th>Mixed Media Sources</th>\n",
       "      <th>BuzzFeed</th>\n",
       "    </tr>\n",
       "  </thead>\n",
       "  <tbody>\n",
       "    <tr>\n",
       "      <th>no flag</th>\n",
       "      <td>377</td>\n",
       "      <td>88</td>\n",
       "    </tr>\n",
       "    <tr>\n",
       "      <th>suspect</th>\n",
       "      <td>1</td>\n",
       "      <td>3</td>\n",
       "    </tr>\n",
       "  </tbody>\n",
       "</table>\n",
       "</div>"
      ],
      "text/plain": [
       "         Mixed Media Sources  BuzzFeed\n",
       "no flag                  377        88\n",
       "suspect                    1         3"
      ]
     },
     "execution_count": 94,
     "metadata": {},
     "output_type": "execute_result"
    }
   ],
   "source": [
    "#combine the results from the fake/false datasets to one dataframe for display\n",
    "print('Value Counts For False Statements:')\n",
    "df2=FalseStatements2['SuspectFlag'].value_counts().to_frame()\n",
    "fakemedia2['SuspectFlag'].value_counts().to_frame()\n",
    "\n",
    "df2['BuzzFeed']=fakemedia2['SuspectFlag'].value_counts().to_frame()['SuspectFlag']\n",
    "df2=df2.rename(columns={\"SuspectFlag\": \"Mixed Media Sources\"})\n",
    "\n",
    "\n",
    "df2"
   ]
  }
 ],
 "metadata": {
  "kernelspec": {
   "display_name": "Python 3",
   "language": "python",
   "name": "python3"
  },
  "language_info": {
   "codemirror_mode": {
    "name": "ipython",
    "version": 3
   },
   "file_extension": ".py",
   "mimetype": "text/x-python",
   "name": "python",
   "nbconvert_exporter": "python",
   "pygments_lexer": "ipython3",
   "version": "3.4.3"
  }
 },
 "nbformat": 4,
 "nbformat_minor": 0
}
